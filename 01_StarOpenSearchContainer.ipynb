{
 "cells": [
  {
   "cell_type": "markdown",
   "metadata": {},
   "source": [
    "# 1. OpenSearchコンテナーの起動/確認/削除"
   ]
  },
  {
   "cell_type": "markdown",
   "metadata": {},
   "source": [
    "## 1.1. docker-compose.ymlの確認\n",
    "\n",
    "- 必要に応じてdocker-compose.ymlを確認しyqで壊れていないか確認します。\n",
    "- 今回はhands-on環境のため、ホスト側をマウントしていません。コンテナーを消すとデータも削除されることに注意してください"
   ]
  },
  {
   "cell_type": "code",
   "execution_count": 17,
   "metadata": {
    "vscode": {
     "languageId": "shellscript"
    }
   },
   "outputs": [
    {
     "name": "stdout",
     "output_type": "stream",
     "text": [
      "\u001b[36mversion\u001b[0m:\u001b[32m '3.8'\u001b[0m\u001b[36m\u001b[0m\n",
      "\u001b[36mservices\u001b[0m:\u001b[36m\u001b[0m\n",
      "\u001b[36m  opensearch\u001b[0m:\u001b[36m\u001b[0m\n",
      "\u001b[36m    image\u001b[0m:\u001b[32m opensearchproject/opensearch:latest\u001b[0m\n",
      "\u001b[32m    \u001b[0m\u001b[36mcontainer_name\u001b[0m:\u001b[32m opensearch\u001b[0m\n",
      "\u001b[32m    \u001b[0m\u001b[36menvironment\u001b[0m:\n",
      "      -\u001b[32m discovery.type=single-node\u001b[0m\n",
      "\u001b[32m      \u001b[0m-\u001b[32m plugins.security.disabled=true\u001b[0m\n",
      "\u001b[32m      \u001b[0m-\u001b[32m bootstrap.memory_lock=true\u001b[0m\n",
      "\u001b[32m      \u001b[0m-\u001b[32m OPENSEARCH_JAVA_OPTS=-Xms512m -Xmx512m\u001b[0m\n",
      "\u001b[32m      \u001b[0m-\u001b[32m OPENSEARCH_INITIAL_ADMIN_PASSWORD=myP@ssw0rdForOpensearch\u001b[0m\n",
      "\u001b[32m    \u001b[0m\u001b[36mulimits\u001b[0m:\u001b[36m\u001b[0m\n",
      "\u001b[36m      memlock\u001b[0m:\u001b[36m\u001b[0m\n",
      "\u001b[36m        soft\u001b[0m:\u001b[95m -1\u001b[0m\n",
      "\u001b[95m        \u001b[0m\u001b[36mhard\u001b[0m:\u001b[95m -1\u001b[0m\n",
      "\u001b[95m    \u001b[0m\u001b[36mports\u001b[0m:\n",
      "      -\u001b[32m \"9200:9200\"\u001b[0m # REST API用\n",
      "      -\u001b[32m \"9600:9600\"\u001b[0m # メトリクス用\n",
      "\u001b[36m    networks\u001b[0m:\n",
      "      -\u001b[32m opensearch-net\u001b[0m\n",
      "\u001b[32m  \u001b[0m\u001b[36mopensearch-dashboards\u001b[0m:\u001b[36m\u001b[0m\n",
      "\u001b[36m    image\u001b[0m:\u001b[32m opensearchproject/opensearch-dashboards:2.13.0\u001b[0m\n",
      "\u001b[32m    \u001b[0m\u001b[36mcontainer_name\u001b[0m:\u001b[32m opensearch-dashboards\u001b[0m\n",
      "\u001b[32m    \u001b[0m\u001b[36menvironment\u001b[0m:\n",
      "      -\u001b[32m OPENSEARCH_HOSTS=[\"http://opensearch:9200\"]\u001b[0m\n",
      "\u001b[32m      \u001b[0m-\u001b[32m DISABLE_SECURITY_DASHBOARDS_PLUGIN=true \u001b[0m# セキュリティプラグインを無効化\n",
      "\u001b[36m    ports\u001b[0m:\n",
      "      -\u001b[32m \"5601:5601\"\u001b[0m\u001b[36m\u001b[0m\n",
      "\u001b[36m    depends_on\u001b[0m:\n",
      "      -\u001b[32m opensearch\u001b[0m\n",
      "\u001b[32m    \u001b[0m\u001b[36mnetworks\u001b[0m:\n",
      "      -\u001b[32m opensearch-net\u001b[0m\n",
      "\u001b[32m\u001b[0m\u001b[36mnetworks\u001b[0m:\u001b[36m\u001b[0m\n",
      "\u001b[36m  opensearch-net\u001b[0m:\u001b[36m\u001b[0m\n",
      "\u001b[36m    driver\u001b[0m:\u001b[32m bridge\u001b[0m\n"
     ]
    }
   ],
   "source": [
    "yq . docker-compose.yml"
   ]
  },
  {
   "cell_type": "markdown",
   "metadata": {},
   "source": [
    "## 1.2. OpenSearch環境の起動"
   ]
  },
  {
   "cell_type": "code",
   "execution_count": 18,
   "metadata": {
    "vscode": {
     "languageId": "shellscript"
    }
   },
   "outputs": [
    {
     "name": "stdout",
     "output_type": "stream",
     "text": [
      "\u001b[1A\u001b[1B\u001b[0G\u001b[?25l[+] Running 1/0\n",
      "\u001b[34m ⠿ Network study-open-search_opensearch-net  Created                       0.0s\n",
      "\u001b[0m\u001b[37m ⠋ Container opensearch                      Cre...                        0.0s\n",
      "\u001b[0m\u001b[?25h\u001b[1A\u001b[1A\u001b[1A\u001b[0G\u001b[?25l\u001b[34m[+] Running 2/2\u001b[0m\n",
      "\u001b[34m ⠿ Network study-open-search_opensearch-net  Created                       0.0s\n",
      "\u001b[0m\u001b[37m ⠿ Container opensearch                      Sta...                        0.1s\n",
      "\u001b[0m\u001b[34m ⠿ Container opensearch-dashboards           Created                       0.0s\n",
      "\u001b[0m\u001b[?25h\u001b[1A\u001b[1A\u001b[1A\u001b[1A\u001b[0G\u001b[?25l[+] Running 2/3\n",
      "\u001b[34m ⠿ Network study-open-search_opensearch-net  Created                       0.0s\n",
      "\u001b[0m\u001b[37m ⠿ Container opensearch                      Sta...                        0.2s\n",
      "\u001b[0m\u001b[34m ⠿ Container opensearch-dashboards           Created                       0.0s\n",
      "\u001b[0m\u001b[?25h\u001b[1A\u001b[1A\u001b[1A\u001b[1A\u001b[0G\u001b[?25l[+] Running 2/3\n",
      "\u001b[34m ⠿ Network study-open-search_opensearch-net  Created                       0.0s\n",
      "\u001b[0m\u001b[34m ⠿ Container opensearch                      Sta...                        0.3s\n",
      "\u001b[0m\u001b[37m ⠿ Container opensearch-dashboards           Starting                      0.3s\n",
      "\u001b[0m\u001b[?25h\u001b[1A\u001b[1A\u001b[1A\u001b[1A\u001b[0G\u001b[?25l[+] Running 2/3\n",
      "\u001b[34m ⠿ Network study-open-search_opensearch-net  Created                       0.0s\n",
      "\u001b[0m\u001b[34m ⠿ Container opensearch                      Sta...                        0.3s\n",
      "\u001b[0m\u001b[37m ⠿ Container opensearch-dashboards           Starting                      0.4s\n",
      "\u001b[0m\u001b[?25h\u001b[1A\u001b[1A\u001b[1A\u001b[1A\u001b[0G\u001b[?25l\u001b[34m[+] Running 3/3\u001b[0m\n",
      "\u001b[34m ⠿ Network study-open-search_opensearch-net  Created                       0.0s\n",
      "\u001b[0m\u001b[34m ⠿ Container opensearch                      Sta...                        0.3s\n",
      "\u001b[0m\u001b[34m ⠿ Container opensearch-dashboards           Started                       0.4s\n",
      "\u001b[0m\u001b[?25h\n"
     ]
    }
   ],
   "source": [
    "docker-compose up -d"
   ]
  },
  {
   "cell_type": "code",
   "execution_count": 19,
   "metadata": {
    "vscode": {
     "languageId": "shellscript"
    }
   },
   "outputs": [
    {
     "name": "stdout",
     "output_type": "stream",
     "text": [
      "CONTAINER ID   IMAGE                                            COMMAND                  CREATED         STATUS                  PORTS                                                                NAMES\n",
      "213438e799e9   opensearchproject/opensearch-dashboards:2.13.0   \"./opensearch-dashbo…\"   2 seconds ago   Up Less than a second   0.0.0.0:5601->5601/tcp                                               opensearch-dashboards\n",
      "9e342b1d841b   opensearchproject/opensearch:latest              \"./opensearch-docker…\"   2 seconds ago   Up 1 second             0.0.0.0:9200->9200/tcp, 9300/tcp, 0.0.0.0:9600->9600/tcp, 9650/tcp   opensearch\n"
     ]
    }
   ],
   "source": [
    "docker ps"
   ]
  },
  {
   "cell_type": "markdown",
   "metadata": {},
   "source": [
    "## 1.3. 起動確認方法"
   ]
  },
  {
   "cell_type": "code",
   "execution_count": 20,
   "metadata": {
    "vscode": {
     "languageId": "shellscript"
    }
   },
   "outputs": [
    {
     "name": "stdout",
     "output_type": "stream",
     "text": [
      "{\n",
      "  \"name\" : \"9e342b1d841b\",\n",
      "  \"cluster_name\" : \"docker-cluster\",\n",
      "  \"cluster_uuid\" : \"u_s80VD9RSCBTiz2OAThVg\",\n",
      "  \"version\" : {\n",
      "    \"distribution\" : \"opensearch\",\n",
      "    \"number\" : \"2.18.0\",\n",
      "    \"build_type\" : \"tar\",\n",
      "    \"build_hash\" : \"99a9a81da366173b0c2b963b26ea92e15ef34547\",\n",
      "    \"build_date\" : \"2024-10-31T19:08:04.231254959Z\",\n",
      "    \"build_snapshot\" : false,\n",
      "    \"lucene_version\" : \"9.12.0\",\n",
      "    \"minimum_wire_compatibility_version\" : \"7.10.0\",\n",
      "    \"minimum_index_compatibility_version\" : \"7.0.0\"\n",
      "  },\n",
      "  \"tagline\" : \"The OpenSearch Project: https://opensearch.org/\"\n",
      "}\n"
     ]
    }
   ],
   "source": [
    "curl -X GET \"http://localhost:9200/\""
   ]
  },
  {
   "cell_type": "code",
   "execution_count": 21,
   "metadata": {
    "vscode": {
     "languageId": "shellscript"
    }
   },
   "outputs": [
    {
     "name": "stdout",
     "output_type": "stream",
     "text": [
      "{\n",
      "  \"name\" : \"9e342b1d841b\",\n",
      "  \"cluster_name\" : \"docker-cluster\",\n",
      "  \"cluster_uuid\" : \"u_s80VD9RSCBTiz2OAThVg\",\n",
      "  \"version\" : {\n",
      "    \"distribution\" : \"opensearch\",\n",
      "    \"number\" : \"2.18.0\",\n",
      "    \"build_type\" : \"tar\",\n",
      "    \"build_hash\" : \"99a9a81da366173b0c2b963b26ea92e15ef34547\",\n",
      "    \"build_date\" : \"2024-10-31T19:08:04.231254959Z\",\n",
      "    \"build_snapshot\" : false,\n",
      "    \"lucene_version\" : \"9.12.0\",\n",
      "    \"minimum_wire_compatibility_version\" : \"7.10.0\",\n",
      "    \"minimum_index_compatibility_version\" : \"7.0.0\"\n",
      "  },\n",
      "  \"tagline\" : \"The OpenSearch Project: https://opensearch.org/\"\n",
      "}\n"
     ]
    }
   ],
   "source": [
    "curl -u admin:2wsxcde34rfvBGT% -X GET \"http://localhost:9200/\""
   ]
  },
  {
   "cell_type": "markdown",
   "metadata": {},
   "source": [
    "# 1.4. 環境のたち下げ (Hands-Onが終わったら)"
   ]
  },
  {
   "cell_type": "code",
   "execution_count": 22,
   "metadata": {
    "vscode": {
     "languageId": "shellscript"
    }
   },
   "outputs": [
    {
     "name": "stdout",
     "output_type": "stream",
     "text": [
      "\u001b[1A\u001b[1B\u001b[0G\u001b[?25l[+] Running 0/0\n",
      "\u001b[37m ⠋ Container opensearch-dashboards  S...                                   0.1s\n",
      "\u001b[0m\u001b[?25h\u001b[1A\u001b[1A\u001b[0G\u001b[?25l[+] Running 0/1\n",
      "\u001b[37m ⠙ Container opensearch-dashboards  S...                                   0.2s\n",
      "\u001b[0m\u001b[?25h\u001b[1A\u001b[1A\u001b[0G\u001b[?25l[+] Running 0/1\n",
      "\u001b[37m ⠹ Container opensearch-dashboards  S...                                   0.3s\n",
      "\u001b[0m\u001b[?25h\u001b[1A\u001b[1A\u001b[0G\u001b[?25l[+] Running 0/1\n",
      "\u001b[37m ⠸ Container opensearch-dashboards  S...                                   0.4s\n",
      "\u001b[0m\u001b[?25h\u001b[1A\u001b[1A\u001b[0G\u001b[?25l[+] Running 0/1\n",
      "\u001b[37m ⠼ Container opensearch-dashboards  S...                                   0.5s\n",
      "\u001b[0m\u001b[?25h\u001b[1A\u001b[1A\u001b[0G\u001b[?25l[+] Running 0/1\n",
      "\u001b[37m ⠴ Container opensearch-dashboards  S...                                   0.6s\n",
      "\u001b[0m\u001b[?25h\u001b[1A\u001b[1A\u001b[0G\u001b[?25l\u001b[34m[+] Running 1/1\u001b[0m\n",
      "\u001b[34m ⠿ Container opensearch-dashboards  R...                                   0.6s\n",
      "\u001b[0m\u001b[37m ⠋ Container opensearch             Stopping                               0.1s\n",
      "\u001b[0m\u001b[?25h\u001b[1A\u001b[1A\u001b[1A\u001b[0G\u001b[?25l[+] Running 1/2\n",
      "\u001b[34m ⠿ Container opensearch-dashboards  R...                                   0.6s\n",
      "\u001b[0m\u001b[37m ⠙ Container opensearch             Stopping                               0.2s\n",
      "\u001b[0m\u001b[?25h\u001b[1A\u001b[1A\u001b[1A\u001b[0G\u001b[?25l[+] Running 1/2\n",
      "\u001b[34m ⠿ Container opensearch-dashboards  R...                                   0.6s\n",
      "\u001b[0m\u001b[37m ⠹ Container opensearch             Stopping                               0.3s\n",
      "\u001b[0m\u001b[?25h\u001b[1A\u001b[1A\u001b[1A\u001b[0G\u001b[?25l[+] Running 1/2\n",
      "\u001b[34m ⠿ Container opensearch-dashboards  R...                                   0.6s\n",
      "\u001b[0m\u001b[37m ⠸ Container opensearch             Stopping                               0.4s\n",
      "\u001b[0m\u001b[?25h\u001b[1A\u001b[1A\u001b[1A\u001b[0G\u001b[?25l[+] Running 1/2\n",
      "\u001b[34m ⠿ Container opensearch-dashboards  R...                                   0.6s\n",
      "\u001b[0m\u001b[37m ⠼ Container opensearch             Stopping                               0.5s\n",
      "\u001b[0m\u001b[?25h\u001b[1A\u001b[1A\u001b[1A\u001b[0G\u001b[?25l[+] Running 1/2\n",
      "\u001b[34m ⠿ Container opensearch-dashboards  R...                                   0.6s\n",
      "\u001b[0m\u001b[37m ⠴ Container opensearch             Stopping                               0.6s\n",
      "\u001b[0m\u001b[?25h\u001b[1A\u001b[1A\u001b[1A\u001b[0G\u001b[?25l[+] Running 3/2\n",
      "\u001b[34m ⠿ Container opensearch-dashboards           Removed                       0.6s\n",
      "\u001b[0m\u001b[34m ⠿ Container opensearch                      Rem...                        0.6s\n",
      "\u001b[0m\u001b[34m ⠿ Network study-open-search_opensearch-net  Removed                       0.0s\n",
      "\u001b[0m\u001b[?25h\n"
     ]
    }
   ],
   "source": [
    "docker compose down"
   ]
  }
 ],
 "metadata": {
  "kernelspec": {
   "display_name": "Bash",
   "language": "bash",
   "name": "bash"
  },
  "language_info": {
   "codemirror_mode": "shell",
   "file_extension": ".sh",
   "mimetype": "text/x-sh",
   "name": "bash"
  }
 },
 "nbformat": 4,
 "nbformat_minor": 2
}
