{
 "cells": [
  {
   "cell_type": "markdown",
   "metadata": {},
   "source": [
    "# 2. OpenSearch Hands-On (Part1)"
   ]
  },
  {
   "cell_type": "markdown",
   "metadata": {},
   "source": [
    "## 2.1. OpenSearch との接続"
   ]
  },
  {
   "cell_type": "code",
   "execution_count": 1,
   "metadata": {},
   "outputs": [
    {
     "name": "stdout",
     "output_type": "stream",
     "text": [
      "{'cluster_name': 'docker-cluster',\n",
      " 'cluster_uuid': 'u_s80VD9RSCBTiz2OAThVg',\n",
      " 'name': '9e342b1d841b',\n",
      " 'tagline': 'The OpenSearch Project: https://opensearch.org/',\n",
      " 'version': {'build_date': '2024-10-31T19:08:04.231254959Z',\n",
      "             'build_hash': '99a9a81da366173b0c2b963b26ea92e15ef34547',\n",
      "             'build_snapshot': False,\n",
      "             'build_type': 'tar',\n",
      "             'distribution': 'opensearch',\n",
      "             'lucene_version': '9.12.0',\n",
      "             'minimum_index_compatibility_version': '7.0.0',\n",
      "             'minimum_wire_compatibility_version': '7.10.0',\n",
      "             'number': '2.18.0'}}\n"
     ]
    }
   ],
   "source": [
    "import pprint\n",
    "from opensearchpy import OpenSearch\n",
    "\n",
    "client = OpenSearch(\n",
    "    hosts=[{\"host\": \"localhost\", \"port\": 9200}],\n",
    "    http_compress=True,  # 圧縮有効化\n",
    ")\n",
    "\n",
    "# クラスタ情報の確認\n",
    "pprint.pprint(client.info())"
   ]
  },
  {
   "cell_type": "markdown",
   "metadata": {},
   "source": [
    "## 2.2. インデックスの作成"
   ]
  },
  {
   "cell_type": "markdown",
   "metadata": {},
   "source": [
    "- OpenSearch に sample-index というインデックスを作成 する\n",
    "- データ構造（mappings）を定義する\n",
    "- データのスキーマ（データの型の定義） を設定\n",
    "- 全文検索ができる title と description を持つ\n",
    "- timestamp を date 型として扱う\n",
    "- すでに存在する場合はエラーを無視 する (ignore=400)"
   ]
  },
  {
   "cell_type": "code",
   "execution_count": 2,
   "metadata": {},
   "outputs": [
    {
     "name": "stdout",
     "output_type": "stream",
     "text": [
      "{'acknowledged': True, 'index': 'sample-index', 'shards_acknowledged': True}\n"
     ]
    }
   ],
   "source": [
    "# インデックス名の定義\n",
    "index_name = \"sample-index\"\n",
    "\n",
    "# インデックス作成\n",
    "response = client.indices.create(\n",
    "    index=index_name,\n",
    "    body={\n",
    "        \"settings\": {\n",
    "            \"index\": {\n",
    "                \"number_of_shards\": 1,   # インデックスを1つのシャードに分割\n",
    "                \"number_of_replicas\": 1  # データのバックアップを1つ作成\n",
    "            }\n",
    "        },\n",
    "        \"mappings\": {\n",
    "            \"properties\": {\n",
    "                \"title\": {\"type\": \"text\"},        # タイトルフィールド（全文検索可能な text 型）\n",
    "                \"description\": {\"type\": \"text\"},  # 説明フィールド（全文検索可能な text 型）\n",
    "                \"timestamp\": {\"type\": \"date\"}     # タイムスタンプフィールド（date 型で日時管理）\n",
    "            }\n",
    "        }\n",
    "    },\n",
    "    ignore=400  # インデックスがすでに存在する場合にエラーを無視\n",
    ")\n",
    "\n",
    "# インデックス作成のレスポンスを出力\n",
    "pprint.pprint(response)"
   ]
  },
  {
   "cell_type": "markdown",
   "metadata": {},
   "source": [
    "## 2.3. データの投入"
   ]
  },
  {
   "cell_type": "markdown",
   "metadata": {},
   "source": [
    "### 2.3.1 データの投入"
   ]
  },
  {
   "cell_type": "code",
   "execution_count": 3,
   "metadata": {},
   "outputs": [
    {
     "name": "stdout",
     "output_type": "stream",
     "text": [
      "{'_id': '1',\n",
      " '_index': 'sample-index',\n",
      " '_primary_term': 1,\n",
      " '_seq_no': 0,\n",
      " '_shards': {'failed': 0, 'successful': 1, 'total': 2},\n",
      " '_version': 1,\n",
      " 'forced_refresh': True,\n",
      " 'result': 'created'}\n"
     ]
    }
   ],
   "source": [
    "import datetime\n",
    "\n",
    "doc = {\n",
    "    \"title\": \"OpenSearch Hands-On\",\n",
    "    \"description\": \"Python から OpenSearch を扱うハンズオンです。\",\n",
    "    \"timestamp\": datetime.datetime.now()\n",
    "}\n",
    "\n",
    "# ドキュメントをインデックスに追加\n",
    "response = client.index(\n",
    "    index=index_name,\n",
    "    body=doc,\n",
    "    id=1,  # ドキュメントIDを指定\n",
    "    refresh=True\n",
    ")\n",
    "pprint.pprint(response)"
   ]
  },
  {
   "cell_type": "markdown",
   "metadata": {},
   "source": [
    "### 2.3.1. 投入したデータの確認"
   ]
  },
  {
   "cell_type": "code",
   "execution_count": 4,
   "metadata": {},
   "outputs": [
    {
     "name": "stdout",
     "output_type": "stream",
     "text": [
      "{'_id': '1',\n",
      " '_index': 'sample-index',\n",
      " '_primary_term': 1,\n",
      " '_seq_no': 0,\n",
      " '_source': {'description': 'Python から OpenSearch を扱うハンズオンです。',\n",
      "             'timestamp': '2025-02-11T19:16:10.739500',\n",
      "             'title': 'OpenSearch Hands-On'},\n",
      " '_version': 1,\n",
      " 'found': True}\n"
     ]
    }
   ],
   "source": [
    "# 更新後のデータを取得\n",
    "response = client.get(index=index_name, id=1)\n",
    "\n",
    "# 更新後の description を表示\n",
    "pprint.pprint(response)"
   ]
  },
  {
   "cell_type": "markdown",
   "metadata": {},
   "source": [
    "## 2.4. データの検索"
   ]
  },
  {
   "cell_type": "code",
   "execution_count": 5,
   "metadata": {},
   "outputs": [
    {
     "name": "stdout",
     "output_type": "stream",
     "text": [
      "{'_shards': {'failed': 0, 'skipped': 0, 'successful': 1, 'total': 1},\n",
      " 'hits': {'hits': [{'_id': '1',\n",
      "                    '_index': 'sample-index',\n",
      "                    '_score': 0.2876821,\n",
      "                    '_source': {'description': 'Python から OpenSearch '\n",
      "                                               'を扱うハンズオンです。',\n",
      "                                'timestamp': '2025-02-11T19:16:10.739500',\n",
      "                                'title': 'OpenSearch Hands-On'}}],\n",
      "          'max_score': 0.2876821,\n",
      "          'total': {'relation': 'eq', 'value': 1}},\n",
      " 'timed_out': False,\n",
      " 'took': 15}\n"
     ]
    }
   ],
   "source": [
    "query = {\n",
    "    \"query\": {\n",
    "        \"match\": {\n",
    "            \"title\": \"OpenSearch\"\n",
    "        }\n",
    "    }\n",
    "}\n",
    "\n",
    "response = client.search(\n",
    "    index=index_name,\n",
    "    body=query\n",
    ")\n",
    "\n",
    "pprint.pprint(response)"
   ]
  },
  {
   "cell_type": "markdown",
   "metadata": {},
   "source": [
    "## 2.5. データの更新"
   ]
  },
  {
   "cell_type": "markdown",
   "metadata": {},
   "source": [
    "### 2.5.1. docの更新"
   ]
  },
  {
   "cell_type": "code",
   "execution_count": 6,
   "metadata": {},
   "outputs": [
    {
     "name": "stdout",
     "output_type": "stream",
     "text": [
      "{'_id': '1',\n",
      " '_index': 'sample-index',\n",
      " '_primary_term': 1,\n",
      " '_seq_no': 1,\n",
      " '_shards': {'failed': 0, 'successful': 1, 'total': 2},\n",
      " '_version': 2,\n",
      " 'result': 'updated'}\n"
     ]
    }
   ],
   "source": [
    "update_doc = {\n",
    "    \"doc\": {\n",
    "        \"description\": \"OpenSearch の基本操作を学ぶハンズオン\"\n",
    "    }\n",
    "}\n",
    "\n",
    "response = client.update(\n",
    "    index=index_name,\n",
    "    id=1,\n",
    "    body=update_doc\n",
    ")\n",
    "pprint.pprint(response)"
   ]
  },
  {
   "cell_type": "markdown",
   "metadata": {},
   "source": [
    "### 2.5.1. 更新した内容の確認"
   ]
  },
  {
   "cell_type": "code",
   "execution_count": 7,
   "metadata": {},
   "outputs": [
    {
     "name": "stdout",
     "output_type": "stream",
     "text": [
      "OpenSearch の基本操作を学ぶハンズオン\n"
     ]
    }
   ],
   "source": [
    "# 更新後のデータを取得\n",
    "response = client.get(index=index_name, id=1)\n",
    "\n",
    "# 更新後の description を表示\n",
    "print(response[\"_source\"][\"description\"])"
   ]
  },
  {
   "cell_type": "markdown",
   "metadata": {},
   "source": [
    "## 2.6. データの削除"
   ]
  },
  {
   "cell_type": "code",
   "execution_count": 8,
   "metadata": {},
   "outputs": [
    {
     "name": "stdout",
     "output_type": "stream",
     "text": [
      "{'_id': '1',\n",
      " '_index': 'sample-index',\n",
      " '_primary_term': 1,\n",
      " '_seq_no': 2,\n",
      " '_shards': {'failed': 0, 'successful': 1, 'total': 2},\n",
      " '_version': 3,\n",
      " 'result': 'deleted'}\n"
     ]
    }
   ],
   "source": [
    "response = client.delete(\n",
    "    index=index_name,\n",
    "    id=1\n",
    ")\n",
    "pprint.pprint(response)"
   ]
  },
  {
   "cell_type": "markdown",
   "metadata": {},
   "source": [
    "## 2.7. インデックスの削除"
   ]
  },
  {
   "cell_type": "code",
   "execution_count": 9,
   "metadata": {},
   "outputs": [
    {
     "name": "stdout",
     "output_type": "stream",
     "text": [
      "{'acknowledged': True}\n"
     ]
    }
   ],
   "source": [
    "# 作成したインデックスを削除\n",
    "response = client.indices.delete(\n",
    "    index=index_name\n",
    ")\n",
    "\n",
    "# インデックス削除の結果を出力\n",
    "pprint.pprint(response)"
   ]
  }
 ],
 "metadata": {
  "kernelspec": {
   "display_name": "venv",
   "language": "python",
   "name": "python3"
  },
  "language_info": {
   "codemirror_mode": {
    "name": "ipython",
    "version": 3
   },
   "file_extension": ".py",
   "mimetype": "text/x-python",
   "name": "python",
   "nbconvert_exporter": "python",
   "pygments_lexer": "ipython3",
   "version": "3.11.1"
  }
 },
 "nbformat": 4,
 "nbformat_minor": 2
}
