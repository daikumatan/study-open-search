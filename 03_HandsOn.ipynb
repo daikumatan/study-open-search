{
 "cells": [
  {
   "cell_type": "markdown",
   "metadata": {},
   "source": [
    "# 3. OpenSearch Hands-On (Part2)"
   ]
  },
  {
   "cell_type": "markdown",
   "metadata": {},
   "source": [
    "## 3.1. OpenSearch との接続"
   ]
  },
  {
   "cell_type": "code",
   "execution_count": 1,
   "metadata": {},
   "outputs": [
    {
     "name": "stdout",
     "output_type": "stream",
     "text": [
      "{'cluster_name': 'docker-cluster',\n",
      " 'cluster_uuid': 'u_s80VD9RSCBTiz2OAThVg',\n",
      " 'name': '9e342b1d841b',\n",
      " 'tagline': 'The OpenSearch Project: https://opensearch.org/',\n",
      " 'version': {'build_date': '2024-10-31T19:08:04.231254959Z',\n",
      "             'build_hash': '99a9a81da366173b0c2b963b26ea92e15ef34547',\n",
      "             'build_snapshot': False,\n",
      "             'build_type': 'tar',\n",
      "             'distribution': 'opensearch',\n",
      "             'lucene_version': '9.12.0',\n",
      "             'minimum_index_compatibility_version': '7.0.0',\n",
      "             'minimum_wire_compatibility_version': '7.10.0',\n",
      "             'number': '2.18.0'}}\n"
     ]
    }
   ],
   "source": [
    "import pprint\n",
    "from opensearchpy import OpenSearch\n",
    "\n",
    "client = OpenSearch(\n",
    "    hosts=[{\"host\": \"localhost\", \"port\": 9200}],\n",
    "    http_compress=True,  # 圧縮有効化\n",
    ")\n",
    "\n",
    "# クラスタ情報の確認\n",
    "pprint.pprint(client.info())"
   ]
  },
  {
   "cell_type": "markdown",
   "metadata": {},
   "source": [
    "## 3.2. インデックスの作成"
   ]
  },
  {
   "cell_type": "markdown",
   "metadata": {},
   "source": [
    "### 3.2.1 インデックスを明示的に作成する理由\n",
    "\n",
    "- 適切な **インデックスマッピング（データ型設定）** を行うためには、**事前にインデックスを作成** するのがベストです。  \n",
    "- 以下のように、スクリプトの最初で `client.indices.create()` を使用して **インデックスを明示的に作成** しましょう。\n",
    "\n",
    "\n",
    "\n",
    "\n",
    "\n",
    "#### なぜインデックスを明示的に作成すべきか？\n",
    "\n",
    "1. データ型を正しく指定できる\n",
    "\t- デフォルトではすべてのフィールドが `text` 型になる\n",
    "\t\t- `keyword` 型として扱うべき `file_name` や `sheet_name` が正しく検索できなくなる。\n",
    "\t- `row` と `column` も **整数型（integer）** にしておくと、数値での検索やソートが容易になる。\n",
    "2. パフォーマンス向上\n",
    "   - `keyword` 型を使うことで、ファイル名・シート名の **フィルタリング（exact match）** が高速になる。\n",
    "3. フィールドの意図を明確にできる\n",
    "   - どのフィールドを全文検索に使うのか（`text`）または、\n",
    "   - どのフィールドを識別情報に使うのか（`keyword`）を明確にできる。\n",
    "\n",
    "#### 最終的なコードの流れ\n",
    "\n",
    "1. `create_index()` を実行し、OpenSearch に `excel_data` インデックスを作成\n",
    "2. `process_unstructured_excel(directory_path)` を実行し、Excelの非構造データをインデックス化\n",
    "3. `search_data()` などを用いて、検索＆表示\n",
    "\n",
    "#### 補足\n",
    "\n",
    "- OpenSearch にデータを送信すると、**インデックスが存在しない場合は自動作成** されます。\n",
    "- **ただし、自動作成されたインデックスのデフォルトマッピングでは、全てのフィールドが `text` になる可能性があるため、適切な設定を行うべき** です。"
   ]
  },
  {
   "cell_type": "code",
   "execution_count": 2,
   "metadata": {},
   "outputs": [],
   "source": [
    "# OpenSearchの設定\n",
    "OPENSEARCH_HOST = \"http://localhost:9200\"\n",
    "INDEX_NAME = \"excel_data\""
   ]
  },
  {
   "cell_type": "code",
   "execution_count": 3,
   "metadata": {},
   "outputs": [
    {
     "name": "stdout",
     "output_type": "stream",
     "text": [
      "インデックス 'excel_data' を作成しました。\n"
     ]
    }
   ],
   "source": [
    "# OpenSearchにインデックスを作成する関数\n",
    "def create_index():\n",
    "    \"\"\"OpenSearchのインデックスを作成（存在しない場合のみ）\"\"\"\n",
    "    index_body = {\n",
    "        \"settings\": {\n",
    "            \"index\": {\n",
    "                \"number_of_shards\": 1,\n",
    "                \"number_of_replicas\": 0\n",
    "            }\n",
    "        },\n",
    "        \"mappings\": {\n",
    "            \"properties\": {\n",
    "                \"file_name\": {\"type\": \"keyword\"},  \t# Excelファイル名\n",
    "                \"sheet_name\": {\"type\": \"keyword\"},  # シート名\n",
    "                \"row\": {\"type\": \"integer\"},  \t\t# Excelの行番号\n",
    "                \"column\": {\"type\": \"integer\"},  \t# Excelの列番号\n",
    "                \"text\": {\"type\": \"text\"}  \t\t\t# セルの内容（全文検索可能）\n",
    "            }\n",
    "        }\n",
    "    }\n",
    "\n",
    "    # インデックスが既に存在するかチェック\n",
    "    if not client.indices.exists(INDEX_NAME):\n",
    "        client.indices.create(index=INDEX_NAME, body=index_body)\n",
    "        print(f\"インデックス '{INDEX_NAME}' を作成しました。\")\n",
    "    else:\n",
    "        print(f\"インデックス '{INDEX_NAME}' は既に存在します。\")\n",
    "\n",
    "# インデックスを作成（最初に実行）\n",
    "create_index()"
   ]
  },
  {
   "cell_type": "markdown",
   "metadata": {},
   "source": [
    "## 3.3. エクセルデータの取り込み"
   ]
  },
  {
   "cell_type": "code",
   "execution_count": 4,
   "metadata": {},
   "outputs": [],
   "source": [
    "import os\n",
    "import openpyxl\n",
    "from opensearchpy import OpenSearch, helpers\n",
    "\n",
    "\n",
    "client = OpenSearch(\n",
    "    hosts=[OPENSEARCH_HOST],\n",
    "    http_auth=('admin', 'myP@ssw0rdForOpensearch'),  # 認証情報（環境に応じて変更）\n",
    ")\n",
    "\n",
    "# Excelファイルの読み込み（構造化されていないデータ対応）\n",
    "def read_unstructured_excel(file_path):\n",
    "    \"\"\"Excelファイルをセル単位で読み込み、JSON化\"\"\"\n",
    "    wb = openpyxl.load_workbook(file_path)\n",
    "    data = []\n",
    "    \n",
    "    for sheet in wb.sheetnames:\n",
    "        ws = wb[sheet]\n",
    "        \n",
    "        for row in ws.iter_rows():\n",
    "            for cell in row:\n",
    "                if cell.value:  # 空白セルを除外\n",
    "                    data.append({\n",
    "                        \"file_name\": os.path.basename(file_path),\n",
    "                        \"sheet_name\": sheet,\n",
    "                        \"row\": cell.row,\n",
    "                        \"column\": cell.column,\n",
    "                        \"text\": str(cell.value)\n",
    "                    })\n",
    "    \n",
    "    return data\n",
    "\n",
    "# OpenSearchにデータを一括登録\n",
    "def bulk_index_data(data):\n",
    "    \"\"\"OpenSearchにデータを登録\"\"\"\n",
    "    actions = [\n",
    "        {\n",
    "            \"_index\": INDEX_NAME,\n",
    "            \"_source\": record\n",
    "        }\n",
    "        for record in data\n",
    "    ]\n",
    "    \n",
    "    helpers.bulk(client, actions)\n",
    "\n",
    "# 指定されたディレクトリ内のすべてのExcelファイルを処理し、OpenSearchに登録する\n",
    "def process_unstructured_excel(directory_path):\n",
    "    all_exel_files = []  # 全てのExcelファイルのデータを格納するリスト\n",
    "\n",
    "    # 指定されたディレクトリ内のファイルを一覧取得\n",
    "    for file_name in os.listdir(directory_path):  \n",
    "        # ファイルがExcel形式（.xlsx または .xls）かをチェック\n",
    "        if file_name.endswith(\".xlsx\") or file_name.endswith(\".xls\"):\n",
    "            file_path = os.path.join(directory_path, file_name)  # フルパスを作成\n",
    "            print(f\"Processing: {file_name}\")  # 現在処理中のファイルを出力\n",
    "            \n",
    "            # Excelファイルのデータを読み込み、リストに追加\n",
    "            all_exel_files.extend(read_unstructured_excel(file_path))  \n",
    "\n",
    "    # 収集したデータが1つ以上ある場合、OpenSearchに登録\n",
    "    if all_exel_files:\n",
    "        bulk_index_data(all_exel_files)  # データを一括登録\n",
    "        print(\"データの登録が完了しました。\")  # 登録完了のメッセージを出力\n"
   ]
  },
  {
   "cell_type": "code",
   "execution_count": 5,
   "metadata": {},
   "outputs": [
    {
     "name": "stdout",
     "output_type": "stream",
     "text": [
      "Processing: 家計簿2.xlsx\n",
      "Processing: 家計簿1.xlsx\n",
      "データの登録が完了しました。\n"
     ]
    },
    {
     "name": "stderr",
     "output_type": "stream",
     "text": [
      "/Users/daisuke/03_a-labs/venv/lib/python3.11/site-packages/openpyxl/worksheet/_reader.py:329: UserWarning: Conditional Formatting extension is not supported and will be removed\n",
      "  warn(msg)\n"
     ]
    }
   ],
   "source": [
    "# 実行\n",
    "directory_path = \"datasets\"  # Excelファイルがあるフォルダ\n",
    "process_unstructured_excel(directory_path)"
   ]
  },
  {
   "cell_type": "markdown",
   "metadata": {},
   "source": [
    "## 3.4. エクセルデータの検索"
   ]
  },
  {
   "cell_type": "code",
   "execution_count": 6,
   "metadata": {},
   "outputs": [],
   "source": [
    "# 検索関数（全文検索対応）\n",
    "def search_data(query_text):\n",
    "    \"\"\"OpenSearchの全文検索\"\"\"\n",
    "    query = {\n",
    "        \"query\": {\n",
    "            \"match\": {\n",
    "                \"text\": query_text\n",
    "            }\n",
    "        }\n",
    "    }\n",
    "    \n",
    "    response = client.search(index=INDEX_NAME, body=query)\n",
    "    return response[\"hits\"][\"hits\"]\n"
   ]
  },
  {
   "cell_type": "code",
   "execution_count": 7,
   "metadata": {},
   "outputs": [
    {
     "name": "stdout",
     "output_type": "stream",
     "text": [
      "{'column': 2,\n",
      " 'file_name': '家計簿2.xlsx',\n",
      " 'row': 33,\n",
      " 'sheet_name': 'Jan',\n",
      " 'text': 'インターネット'}\n",
      "{'column': 2,\n",
      " 'file_name': '家計簿2.xlsx',\n",
      " 'row': 33,\n",
      " 'sheet_name': 'Feb',\n",
      " 'text': 'インターネット'}\n",
      "{'column': 2,\n",
      " 'file_name': '家計簿1.xlsx',\n",
      " 'row': 33,\n",
      " 'sheet_name': 'Jan',\n",
      " 'text': 'インターネット'}\n",
      "{'column': 2,\n",
      " 'file_name': '家計簿1.xlsx',\n",
      " 'row': 33,\n",
      " 'sheet_name': 'Feb',\n",
      " 'text': 'インターネット'}\n"
     ]
    }
   ],
   "source": [
    "# 検索例\n",
    "keyword = \"インターネット\"\n",
    "results = search_data(keyword)\n",
    "for res in results:\n",
    "    pprint.pprint(res[\"_source\"])"
   ]
  },
  {
   "cell_type": "code",
   "execution_count": 8,
   "metadata": {},
   "outputs": [
    {
     "data": {
      "text/plain": [
       "{'_index': 'excel_data',\n",
       " '_id': 'bUuD9JQBK1tsZIgq57G_',\n",
       " '_score': 6.91768,\n",
       " '_source': {'file_name': '家計簿2.xlsx',\n",
       "  'sheet_name': 'Jan',\n",
       "  'row': 33,\n",
       "  'column': 2,\n",
       "  'text': 'インターネット'}}"
      ]
     },
     "execution_count": 8,
     "metadata": {},
     "output_type": "execute_result"
    }
   ],
   "source": [
    "# 最初の一つ目だけ、全データを表示してみる\n",
    "results[0]"
   ]
  },
  {
   "cell_type": "markdown",
   "metadata": {},
   "source": [
    "# Dashboardの使い方\n",
    "**OpenSearch Dashboards から Python で作成したインデックスを確認する方法**を説明します。\n",
    "\n",
    "---\n",
    "\n",
    "## **1. Dashboards にアクセス**\n",
    "ブラウザで **`http://localhost:5601`** にアクセスし、OpenSearch Dashboards を開きます。\n",
    "\n",
    "---\n",
    "\n",
    "## **2. インデックスが登録されているか確認**\n",
    "1. **[Dev Tools] を開く**\n",
    "   - 左側のメニューから `Dev Tools` を選択。\n",
    "   - または、URL に直接 `http://localhost:5601/app/dev_tools` を入力。\n",
    "\n",
    "2. **インデックス一覧を確認**\n",
    "   - `Console` に以下のクエリを入力し、**[▶︎実行] ボタンをクリック**。\n",
    "   ```json\n",
    "   GET _cat/indices?v\n",
    "   ```\n",
    "   - Python で作成したインデックス名がリストに表示されているか確認。\n",
    "\n",
    "---\n",
    "\n",
    "## **3. インデックスのデータを確認**\n",
    "1. **登録データのプレビュー**\n",
    "   - `Console` に以下を入力し、**[▶︎実行]**。\n",
    "   ```json\n",
    "   GET your_index_name/_search?pretty\n",
    "   ```\n",
    "   - `your_index_name` は Python で作成したインデックス名に置き換えてください。\n",
    "\n",
    "   - 例：\n",
    "     ```json\n",
    "     GET test-index/_search?pretty\n",
    "     ```\n",
    "\n",
    "   - 登録されたデータが `hits.hits` 配列内に表示される。\n",
    "\n",
    "---\n",
    "\n",
    "## **4. インデックスパターンを作成**\n",
    "データを可視化するには、インデックスパターンを作成する必要があります。\n",
    "\n",
    "### **4.1 [管理] 画面でインデックスパターンを作成**\n",
    "1. **[Stack Management] に移動**\n",
    "   - 左側のメニューから `Stack Management` をクリック。\n",
    "   - または `http://localhost:5601/app/management` にアクセス。\n",
    "\n",
    "2. **[Index Patterns] を選択**\n",
    "   - `Index Patterns` メニューを開く。\n",
    "\n",
    "3. **[Create index pattern] をクリック**\n",
    "   - インデックス名（例: `test-index*`）を入力し、**Next step** をクリック。\n",
    "   - `Timestamp field` を選択（時系列データの場合）。\n",
    "   - **[Create index pattern] をクリック**。\n",
    "\n",
    "---\n",
    "\n",
    "## **5. 可視化 (Visualization)**\n",
    "1. **[Discover] に移動**\n",
    "   - 左側のメニューから `Discover` を選択。\n",
    "   - 作成したインデックスパターンを選択。\n",
    "   - 登録データが表示されるか確認。\n",
    "\n",
    "2. **[Visualize Library] でグラフを作成**\n",
    "   - `Visualize Library` を選択。\n",
    "   - `Create visualization` → `Bar chart`, `Line chart` などを選択。\n",
    "   - `Index pattern` に作成したパターンを選択し、グラフを作成。\n",
    "\n",
    "---\n",
    "\n",
    "## **Dashboardの使い方まとめ**\n",
    "| 手順 | 操作 | URL |\n",
    "|------|------|------|\n",
    "| 1. Dashboards にアクセス | `http://localhost:5601` | OpenSearch Dashboards を開く |\n",
    "| 2. インデックスを確認 | `GET _cat/indices?v` | `Dev Tools` で一覧表示 |\n",
    "| 3. データを確認 | `GET your_index_name/_search?pretty` | `Dev Tools` で検索 |\n",
    "| 4. インデックスパターンを作成 | `Stack Management > Index Patterns` | `http://localhost:5601/app/management` |\n",
    "| 5. データを可視化 | `Discover` または `Visualize Library` | `http://localhost:5601/app/discover` |\n",
    "\n",
    "---\n",
    "\n",
    "これで、Python で登録したデータを OpenSearch Dashboards から可視化できます！🚀"
   ]
  },
  {
   "cell_type": "markdown",
   "metadata": {},
   "source": [
    "## [補足] Dashboardにおける検索結果の表示件数を制御する方法\n",
    "\n",
    "`GET your_index_name/_search?pretty` を実行した際に、すべてのデータが表示されない場合、OpenSearch のデフォルト設定では **最大 10 件** しか表示されません。\n",
    "\n",
    "| 方法 | クエリ | 備考 |\n",
    "|------|------|------|\n",
    "| **全件取得** | `GET your_index_name/_search?size=10000` | 最大 10,000 件まで |\n",
    "| **総件数を確認** | `GET your_index_name/_count` | データが何件あるか確認 |\n",
    "| **ページネーション** | `GET your_index_name/_search?size=100&from=100` | 100 件ずつ取得 |\n",
    "| **大量データ取得** | `POST your_index_name/_search?scroll=1m` | Scroll API を利用 |\n",
    "\n",
    "この方法で、Python から登録したすべてのデータを取得できます！🚀"
   ]
  },
  {
   "cell_type": "code",
   "execution_count": 9,
   "metadata": {},
   "outputs": [
    {
     "name": "stdout",
     "output_type": "stream",
     "text": [
      "{'acknowledged': True}\n"
     ]
    }
   ],
   "source": [
    "# 作成したインデックスを削除\n",
    "response = client.indices.delete(\n",
    "    index=INDEX_NAME\n",
    ")\n",
    "\n",
    "# インデックス削除の結果を出力\n",
    "pprint.pprint(response)"
   ]
  }
 ],
 "metadata": {
  "kernelspec": {
   "display_name": "venv",
   "language": "python",
   "name": "python3"
  },
  "language_info": {
   "codemirror_mode": {
    "name": "ipython",
    "version": 3
   },
   "file_extension": ".py",
   "mimetype": "text/x-python",
   "name": "python",
   "nbconvert_exporter": "python",
   "pygments_lexer": "ipython3",
   "version": "3.11.1"
  }
 },
 "nbformat": 4,
 "nbformat_minor": 2
}
